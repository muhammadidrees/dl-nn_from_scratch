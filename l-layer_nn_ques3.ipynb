{
  "cells": [
    {
      "cell_type": "markdown",
      "metadata": {
        "_uuid": "cfb9e0aec7e1e00fd3a5c7335109d7d50eeee66a"
      },
      "source": [
        "# Run Excersice values on Code"
      ]
    },
    {
      "cell_type": "code",
      "execution_count": 3,
      "metadata": {
        "_uuid": "9829662ef039d6732fca5d16404fd2c1d90fc260",
        "trusted": true
      },
      "outputs": [],
      "source": [
        "import numpy as np\n",
        "import matplotlib.pyplot as plt\n",
        "import pandas as pd \n",
        "from sklearn import preprocessing\n",
        "from sklearn.preprocessing import MinMaxScaler\n",
        "from sklearn import metrics\n",
        "from sklearn.metrics import confusion_matrix\n",
        "import itertools\n",
        "\n",
        "np.set_printoptions(threshold=np.inf)\n",
        "\n",
        "%matplotlib inline\n",
        "%load_ext autoreload\n",
        "%autoreload 2"
      ]
    },
    {
      "cell_type": "code",
      "execution_count": 4,
      "metadata": {
        "_uuid": "edd6966078337bd8fe38fc2e2287fc02b60d86e8",
        "trusted": true
      },
      "outputs": [],
      "source": [
        "def plotCf(a,b,t):\n",
        "    cf =confusion_matrix(a,b)\n",
        "    plt.imshow(cf,cmap=plt.cm.Blues,interpolation='nearest')\n",
        "    plt.colorbar()\n",
        "    plt.title(t)\n",
        "    plt.xlabel('Predicted')\n",
        "    plt.ylabel('Actual')\n",
        "    tick_marks = np.arange(len(set(a))) # length of classes\n",
        "    class_labels = ['0','1']\n",
        "    plt.xticks(tick_marks,class_labels)\n",
        "    plt.yticks(tick_marks,class_labels)\n",
        "    thresh = cf.max() / 2.\n",
        "    for i,j in itertools.product(range(cf.shape[0]),range(cf.shape[1])):\n",
        "        plt.text(j,i,format(cf[i,j],'d'),horizontalalignment='center',color='white' if cf[i,j] >thresh else 'black')\n",
        "    plt.show();"
      ]
    },
    {
      "cell_type": "code",
      "execution_count": 1,
      "metadata": {
        "_uuid": "66c9cdd8523ba2f23f1f6cf95de6e9f999bdc7f4",
        "trusted": true
      },
      "outputs": [],
      "source": [
        "def Sigmoid(Z):\n",
        "    return 1/(1+np.exp(-Z))\n",
        "\n",
        "def Relu(Z):\n",
        "    return np.maximum(0,Z)\n",
        "\n",
        "def dRelu2(dZ, Z):    \n",
        "    dZ[Z <= 0] = 0    \n",
        "    return dZ\n",
        "\n",
        "def dRelu(x):\n",
        "    x[x<=0] = 0\n",
        "    x[x>0] = 1\n",
        "    return x\n",
        "\n",
        "def dSigmoid(Z):\n",
        "    s = 1/(1+np.exp(-Z))\n",
        "    dZ = s * (1-s)\n",
        "    return dZ\n",
        "\n",
        "class dlnet:\n",
        "    def __init__(self, x, y, L):\n",
        "        self.debug = 0;\n",
        "        self.X=x\n",
        "        self.Y=y\n",
        "        self.Yh=np.zeros((1,self.Y.shape[1])) \n",
        "        self.L=L\n",
        "        self.dims = [9, 15, 1] \n",
        "        self.param = {}\n",
        "        self.ch = {}\n",
        "        self.grad = {}\n",
        "        self.loss = []\n",
        "        self.lr=0.003\n",
        "        self.sam = self.Y.shape[1]\n",
        "        self.threshold=0.5\n",
        "        \n",
        "    def nInit(self):    \n",
        "        np.random.seed(1)\n",
        "        self.param['W1'] = np.random.randn(self.dims[1], self.dims[0]) / np.sqrt(self.dims[0]) \n",
        "        self.param['b1'] = np.zeros((self.dims[1], 1))        \n",
        "        self.param['W2'] = np.random.randn(self.dims[2], self.dims[1]) / np.sqrt(self.dims[1]) \n",
        "        self.param['b2'] = np.zeros((self.dims[2], 1))                \n",
        "        return \n",
        "\n",
        "    def forward(self):    \n",
        "        Z1 = self.param['W1'].dot(self.X) + self.param['b1'] \n",
        "        A1 = Relu(Z1)\n",
        "        self.ch['Z1'],self.ch['A1']=Z1,A1\n",
        "        \n",
        "        Z2 = self.param['W2'].dot(A1) + self.param['b2']  \n",
        "        A2 = Sigmoid(Z2)\n",
        "        self.ch['Z2'],self.ch['A2']=Z2,A2\n",
        "\n",
        "        self.Yh=A2\n",
        "        loss=self.nloss(A2)\n",
        "        return self.Yh, loss\n",
        "\n",
        "    def nloss(self,Yh):\n",
        "        loss = (1./self.sam) * (-np.dot(self.Y,np.log(Yh).T) - np.dot(1-self.Y, np.log(1-Yh).T))    \n",
        "        return loss\n",
        "\n",
        "    def backward(self):\n",
        "        dLoss_Yh = - (np.divide(self.Y, self.Yh ) - np.divide(1 - self.Y, 1 - self.Yh))    \n",
        "        \n",
        "        dLoss_Z2 = dLoss_Yh * dSigmoid(self.ch['Z2'])    \n",
        "        dLoss_A1 = np.dot(self.param[\"W2\"].T,dLoss_Z2)\n",
        "        dLoss_W2 = 1./self.ch['A1'].shape[1] * np.dot(dLoss_Z2,self.ch['A1'].T)\n",
        "        dLoss_b2 = 1./self.ch['A1'].shape[1] * np.dot(dLoss_Z2, np.ones([dLoss_Z2.shape[1],1])) \n",
        "                            \n",
        "        dLoss_Z1 = dLoss_A1 * dRelu(self.ch['Z1'])        \n",
        "        dLoss_A0 = np.dot(self.param[\"W1\"].T,dLoss_Z1)\n",
        "        dLoss_W1 = 1./self.X.shape[1] * np.dot(dLoss_Z1,self.X.T)\n",
        "        dLoss_b1 = 1./self.X.shape[1] * np.dot(dLoss_Z1, np.ones([dLoss_Z1.shape[1],1]))  \n",
        "        \n",
        "        self.param[\"W1\"] = self.param[\"W1\"] - self.lr * dLoss_W1\n",
        "        self.param[\"b1\"] = self.param[\"b1\"] - self.lr * dLoss_b1\n",
        "        self.param[\"W2\"] = self.param[\"W2\"] - self.lr * dLoss_W2\n",
        "        self.param[\"b2\"] = self.param[\"b2\"] - self.lr * dLoss_b2\n",
        "        \n",
        "        return\n",
        "\n",
        "\n",
        "    def pred(self,x, y):  \n",
        "        self.X=x\n",
        "        self.Y=y\n",
        "        comp = np.zeros((1,x.shape[1]))\n",
        "        pred, loss= self.forward()    \n",
        "    \n",
        "        for i in range(0, pred.shape[1]):\n",
        "            if pred[0,i] > self.threshold: comp[0,i] = 1\n",
        "            else: comp[0,i] = 0\n",
        "    \n",
        "        print(\"Acc: \" + str(np.sum((comp == y)/x.shape[1])))\n",
        "        \n",
        "        return comp\n",
        "    \n",
        "    def gd(self,X, Y, iter = 3000):\n",
        "        np.random.seed(1)                         \n",
        "    \n",
        "        self.nInit()\n",
        "    \n",
        "        for i in range(0, iter):\n",
        "            Yh, loss=self.forward()\n",
        "            self.backward()\n",
        "        \n",
        "            print (\"Cost after iteration %i: %f\" %(i, loss))\n",
        "            self.loss.append(loss)\n",
        "\n",
        "        plt.plot(np.squeeze(self.loss))\n",
        "        plt.ylabel('Loss')\n",
        "        plt.xlabel('Iter')\n",
        "        plt.title(\"Lr =\" + str(self.lr))\n",
        "        plt.show()\n",
        "    \n",
        "        return \n"
      ]
    },
    {
      "cell_type": "markdown",
      "metadata": {
        "_uuid": "56346d9bba9c5c4121aa1549252826864a4ce32e"
      },
      "source": [
        "# Prepare the data"
      ]
    },
    {
      "cell_type": "code",
      "execution_count": 5,
      "metadata": {
        "_uuid": "ee89b668b46defd5105ab3f2a3cfce3f94a32c3d",
        "trusted": true
      },
      "outputs": [],
      "source": [
        "df = pd.read_csv('data.csv',header=None)\n",
        "df = df.astype(float)\n",
        "\n",
        "df.head(3)\n",
        "scaled_df=df\n",
        "names = df.columns[0:4]\n",
        "scaler = MinMaxScaler() \n",
        "scaled_df = scaler.fit_transform(df.iloc[:,0:4]) \n",
        "scaled_df = pd.DataFrame(scaled_df, columns=names)\n"
      ]
    },
    {
      "cell_type": "code",
      "execution_count": 57,
      "metadata": {
        "_uuid": "fa1f16313a9cc5dce0564a1268b64984a8c7ae2b",
        "trusted": true
      },
      "outputs": [
        {
          "name": "stdout",
          "output_type": "stream",
          "text": [
            "(4, 4) (3, 4) (4, 0)\n"
          ]
        }
      ],
      "source": [
        "x=scaled_df.iloc[0:4,1:4].values.transpose()\n",
        "y=df.iloc[0:4,4:].values\n",
        "\n",
        "\n",
        "print(df.shape, x.shape, y.shape)\n",
        "\n",
        "nn = dlnet(x,y, 5)\n",
        "nn.lr=0.07\n",
        "nn.dims = [3, 2, 1] "
      ]
    },
    {
      "cell_type": "code",
      "execution_count": null,
      "metadata": {
        "_uuid": "2627adb814e66d84710aa996b97c0b2f9c4565be",
        "scrolled": true,
        "trusted": true
      },
      "outputs": [],
      "source": [
        "nn.gd(x, y, iter = 10)"
      ]
    },
    {
      "cell_type": "code",
      "execution_count": 22,
      "metadata": {
        "_uuid": "fe4cd4ca7ed980adf4c9a3c53bf923f19615ac92",
        "trusted": true
      },
      "outputs": [
        {
          "name": "stdout",
          "output_type": "stream",
          "text": [
            "\n",
            "y [[0 0 0 1 0 0 1 1 0 0 0 0 0 0 1 0 0 0 0 0 0 0 0 0 0 0 0 0 0 0 1 0 0 1 0 0\n",
            "  0 0 0 0 0 0 0 0 0 0 0 0 0 1]]\n",
            "\n",
            "yh [[0 0 0 1 0 0 1 1 0 0 0 0 0 0 1 0 0 0 0 0 0 0 0 0 0 0 0 0 0 0 1 0 0 1 0 0\n",
            "  0 0 0 0 0 0 0 0 0 0 0 0 0 1]] \n",
            "\n"
          ]
        }
      ],
      "source": [
        "nn.X,nn.Y=x, y \n",
        "yvalh, loss = nn.forward()\n",
        "print(\"\\ny\",np.around(x[:,0:4,], decimals=0).astype(np.int))       \n",
        "print(\"\\nyh\",np.around(y[:,0:4,], decimals=0).astype(np.int),\"\\n\")         "
      ]
    }
  ],
  "metadata": {
    "coursera": {
      "course_slug": "neural-networks-deep-learning",
      "graded_item_id": "TSPse",
      "launcher_item_id": "24mxX"
    },
    "interpreter": {
      "hash": "a80f5a16359a8d1cfa8760d592001492ebbf8e89460f6bc8c7f9997c1a556fa6"
    },
    "kernelspec": {
      "display_name": "Python 3.8.10 64-bit ('venv': venv)",
      "name": "python3"
    },
    "language_info": {
      "codemirror_mode": {
        "name": "ipython",
        "version": 3
      },
      "file_extension": ".py",
      "mimetype": "text/x-python",
      "name": "python",
      "nbconvert_exporter": "python",
      "pygments_lexer": "ipython3",
      "version": "3.8.10"
    }
  },
  "nbformat": 4,
  "nbformat_minor": 1
}
